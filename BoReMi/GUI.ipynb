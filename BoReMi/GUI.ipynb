{
 "cells": [
  {
   "cell_type": "code",
   "execution_count": null,
   "id": "842232ee",
   "metadata": {},
   "outputs": [],
   "source": [
    "# This cell imports all the required modules and functions.\n",
    "\n",
    "%run Functions.ipynb"
   ]
  },
  {
   "cell_type": "markdown",
   "id": "b93f48c9",
   "metadata": {},
   "source": [
    "##### **Important: Before beginning, please ensure to follow all the recommended guidelines outlined in the README.md file.**"
   ]
  },
  {
   "cell_type": "markdown",
   "id": "4d29dce7",
   "metadata": {},
   "source": [
    "### <u>A few notes:</u>\n",
    "The lists below should include:\n",
    "\n",
    "1. The address of the sm-data file.\n",
    "\n",
    "    - Accepted file formats - .csv / .xlsx / .h5ad\n",
    "\n",
    "        #### <u>Instructions for uploading sm-data:</u>\n",
    "    \n",
    "        - Enter the absolute address(es) of the file(s) in the 1st list present in the cell below, followed by the names of the <u>columns</u> containing <u>X coordinates</u>, <u>Y coordinates</u> and <u>Cluster Annotations</u> in the following respective lists.\n",
    "            - In case of .h5ad file(s), the spatial coordinates (x, y) and cluster annotations containing dataframe should be stored in the <u>.obs</u> parameter of the anndata object.\n",
    "\n",
    "        - If your file(s) does not contain cluster annotations, please write <u>\"none\"</u> in the list \"clusters_column_names\" below. \n",
    "            - For example: clusters_column_names = [\"none\"]\n",
    "            - In the above mentioned case, all the coordinates will be stored as \"C_nan\" in the interactive legend space of the tool. In case some coordinates have not been grouped into any of the clusters, they will also be stored as \"C_nan\" in the interactive legend space of the tool.\n",
    "\n",
    "        - Please make sure that the 1st row of the sm-data file only contains <u>column names</u> and not some other information/sentences.\n",
    "\n",
    "        - If you would like to test multiple data-types together, enter the different file addresses in the \"file_names\" list separated by commas. The same applies to all the other lists made for different column names.\n",
    "        # \n",
    "        \n",
    "2. Column names for <u>X coordinates</u>, <u>Y coordinates</u>, <u>Cluster Annotations</u> and <u>Cell IDs</u>."
   ]
  },
  {
   "cell_type": "code",
   "execution_count": null,
   "id": "2dcb94d4",
   "metadata": {
    "code_folding": [],
    "hide_input": false
   },
   "outputs": [],
   "source": [
    "file_names = []\n",
    "x_coordinate_column_names = []\n",
    "y_coordinate_column_names = []\n",
    "clusters_column_names = []\n",
    "cell_id_column_names = []"
   ]
  },
  {
   "cell_type": "code",
   "execution_count": null,
   "id": "1dd1a9d8",
   "metadata": {},
   "outputs": [],
   "source": [
    "# Name for this session.\n",
    "\n",
    "title = []"
   ]
  },
  {
   "cell_type": "markdown",
   "id": "28fae0f0",
   "metadata": {},
   "source": [
    "### <u>Instructions for uploading HE images:</u>\n",
    " \n",
    "In case you would like to test different HE/DAPI images, please follow the guidelines below: \n",
    "\n",
    "1) Accepted file formats - .jpeg / .png\n",
    " \n",
    "2) Enter the absolute addresses of the images in the \"imgs\" list present in the cell below for the registration.\n",
    "\n",
    "##### Note: Only 3 images can be uploaded when running BoReMi on a remote jupyter server."
   ]
  },
  {
   "cell_type": "code",
   "execution_count": null,
   "id": "ab915473",
   "metadata": {},
   "outputs": [],
   "source": [
    "# Addresses of the \"HE image\" files along with their pixel size (in micrometer/pixel).\n",
    "\n",
    "imgs = []"
   ]
  },
  {
   "cell_type": "markdown",
   "id": "4b2bd941",
   "metadata": {},
   "source": [
    "### <u>Instructions for User-modifiable parameters:</u>\n",
    "\n",
    "##### Note: Type in integers and not strings (unless specified).\n",
    " \n",
    "1) Type in the <u>pixel size (in micrometer/pixel)</u> for the respective sm-data in the \"scale_for_sm_data\" list below.\n",
    "\n",
    "2) Type in the <u>pixel size (in micrometer/pixel)</u> for the image(s) in the \"scale_for_he_image\" variable below.\n",
    "\n",
    "3) Type in the <u>pixel size (in micrometer/pixel)</u> for the respective scale bar in the \"scale_bar\" variable below.\n",
    "\n",
    "4) Type in the <u>preferred number of data-points</u> to be displayed on the plot for the respective sm-data in the \"number_of_data_points_to_be_displayed\" list below.\n",
    "    - Maximum possible value is the total number of data-points.\n",
    "\n",
    "    - If all data-points should be included, please type \"all\" for the respective sm-data in the \"number_of_data_points_to_be_displayed\" list below. \n",
    "        - For example: number_of_data_points_to_be_displayed = [\"all\"]\n",
    "        \n",
    "    - We recommend at most of 10000 data-points for a smoother BoReMi experience."
   ]
  },
  {
   "cell_type": "code",
   "execution_count": null,
   "id": "57bd756a",
   "metadata": {},
   "outputs": [],
   "source": [
    "# Below are the user-modifiable parameters.\n",
    "\n",
    "scale_for_sm_data = [1]\n",
    "scale_for_he_image = 1\n",
    "scale_bar = [1]\n",
    "number_of_data_points_to_be_displayed = [10000]"
   ]
  },
  {
   "cell_type": "code",
   "execution_count": null,
   "id": "960c2f5b",
   "metadata": {},
   "outputs": [],
   "source": [
    "# Enter your current notebook ip and port number; ip can be \"localhost\"\n",
    "\n",
    "your_current_ip_and_port_number = \"<ip>:<port number>\"\n",
    "\n",
    "notebook_url = your_current_ip_and_port_number\n",
    "\n",
    "# uncomment the following for remote jupyter server\n",
    "\n",
    "# notebook_url = create_notebook_url_callable(your_current_ip_and_port_number)"
   ]
  },
  {
   "cell_type": "markdown",
   "id": "b7f224c8",
   "metadata": {},
   "source": [
    "### <u>Heads up!</u>\n",
    "\n",
    "1. Once the registration process is complete and the button \"Download Spatial Coordinates+Log file\" is clicked, BoReMi will automatically apply all user-performed manipulations to the remaining sm-data points that were not included in the down-sampled dataset. This results in downloading:\n",
    "\n",
    "    - A .csv file containing all sm-data points updated consistently.\n",
    "\n",
    "    - A registration .txt file that contains all applied transformation parameters for future use or reference.\n",
    "\n",
    "    - A record log .csv file documenting all linear manipulations.\n",
    "\n",
    "2. Clicking the \"Download Updated Image\" button will download the updated image in .jpg format.\n",
    "\n",
    "**Everything that is downloaded via BoReMi, will get saved in your computer's default download location.**"
   ]
  },
  {
   "cell_type": "markdown",
   "id": "e32386f1",
   "metadata": {},
   "source": [
    "### BoReMi workspace"
   ]
  },
  {
   "cell_type": "code",
   "execution_count": null,
   "id": "d36c544d",
   "metadata": {
    "code_folding": [],
    "hide_input": false
   },
   "outputs": [],
   "source": [
    "#### Ignore these warnings if they show up -\n",
    "\n",
    "# 1) UserWarning: Cannot find a last shown plot to update. \n",
    "# Call output_notebook() and show(..., notebook_handle=True) before push_notebook() \n",
    "\n",
    "# 2) ImplicitModificationWarning: Transforming to str index.\n",
    "# warnings.warn(\"Transforming to str index.\", ImplicitModificationWarning)\n",
    "\n",
    "# Everything downloaded via BoReMi (i.e., the updated x-y coordinates & the updated image)\n",
    "# will get saved in your computer's default download location. Although, the updated image will get downloaded without showing a success prompt.\n",
    "\n",
    "def _boremi_(doc):\n",
    "\n",
    "    list_for_all_data_types, list_for_all_data_types_remaining, list_for_storing_total_clusters_info_in_each_file, list_for_storing_total_clusters_info_in_each_file_remaining, list_for_storing_max_x_coordinate_of_each_file, list_for_storing_max_x_coordinate_of_each_file_remaining, list_for_storing_max_y_coordinate_of_each_file, list_for_storing_max_y_coordinate_of_each_file_remaining, list_for_storing_average_of_x_coordinated_of_each_file, list_for_storing_average_of_x_coordinated_of_each_file_remaining, list_for_storing_average_of_y_coordinated_of_each_file, list_for_storing_average_of_y_coordinated_of_each_file_remaining, actual_number_datapoints_displayed_on_the_plot, total_number_of_datapoints_in_the_smdata_file = creating_required_number_of_input_dictionaries(file_names, x_coordinate_column_names, y_coordinate_column_names, clusters_column_names, cell_id_column_names, scale_for_sm_data, scale_bar, title, number_of_data_points_to_be_displayed)       \n",
    "    layout_for_display = boremi(title, list_for_all_data_types, list_for_all_data_types_remaining, list_for_storing_total_clusters_info_in_each_file, list_for_storing_total_clusters_info_in_each_file_remaining, list_for_storing_max_x_coordinate_of_each_file, list_for_storing_max_x_coordinate_of_each_file_remaining, list_for_storing_max_y_coordinate_of_each_file, list_for_storing_max_y_coordinate_of_each_file_remaining, list_for_storing_average_of_x_coordinated_of_each_file, list_for_storing_average_of_x_coordinated_of_each_file_remaining, list_for_storing_average_of_y_coordinated_of_each_file, list_for_storing_average_of_y_coordinated_of_each_file_remaining, imgs, title, scale_for_he_image, scale_for_sm_data, scale_bar, actual_number_datapoints_displayed_on_the_plot, total_number_of_datapoints_in_the_smdata_file)\n",
    "    doc.add_root(layout_for_display)\n",
    "\n",
    "output_notebook()\n",
    "show(Application(FunctionHandler(_boremi_)), notebook_url=notebook_url)"
   ]
  },
  {
   "cell_type": "code",
   "execution_count": null,
   "id": "f9df0631",
   "metadata": {},
   "outputs": [],
   "source": []
  },
  {
   "cell_type": "code",
   "execution_count": null,
   "id": "6e64283f",
   "metadata": {},
   "outputs": [],
   "source": [
    "import matplotlib.pyplot as plt\n",
    "changed_coord_plot = pd.read_csv(r\"Updated_Spatial_Data.csv\")\n",
    "plt.gcf().set_size_inches((40, 40))\n",
    "plt.scatter(x=changed_coord_plot['final x'], y=changed_coord_plot['final y'], s=100, alpha=1, marker=\".\", c='blue')\n",
    "plt.xticks(fontsize=30)\n",
    "plt.xlabel(\"x\", labelpad=50, fontsize=60)\n",
    "plt.yticks(fontsize=30)\n",
    "plt.ylabel(\"y\", labelpad=50, fontsize=60)\n",
    "plt.title(\"Updated Spatial Data\", fontsize=60, y=1.01)\n",
    "plt.show()"
   ]
  },
  {
   "cell_type": "code",
   "execution_count": null,
   "id": "2033c1a5",
   "metadata": {},
   "outputs": [],
   "source": []
  }
 ],
 "metadata": {
  "kernelspec": {
   "display_name": "boremi env",
   "language": "python",
   "name": "boremi_env"
  },
  "language_info": {
   "codemirror_mode": {
    "name": "ipython",
    "version": 3
   },
   "file_extension": ".py",
   "mimetype": "text/x-python",
   "name": "python",
   "nbconvert_exporter": "python",
   "pygments_lexer": "ipython3",
   "version": "3.11.5"
  }
 },
 "nbformat": 4,
 "nbformat_minor": 5
}
