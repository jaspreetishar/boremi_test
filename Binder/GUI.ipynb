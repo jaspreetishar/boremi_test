{
 "cells": [
  {
   "cell_type": "markdown",
   "metadata": {},
   "source": [
    "### BoReMi interactive demonstration"
   ]
  },
  {
   "cell_type": "code",
   "execution_count": null,
   "metadata": {
    "tags": []
   },
   "outputs": [],
   "source": [
    "# This cell imports all the required modules and functions.\n",
    "\n",
    "%run Functions.ipynb"
   ]
  },
  {
   "cell_type": "markdown",
   "metadata": {},
   "source": [
    "#### A few notes:\n",
    "The lists below contain the address of the sm-data file along with the column names which store \"X coordinates\", \"Y coordinates\" and \"Cluster annotations\" followed by the sm-data's pixel size (in micrometer/pixel) and the number of sm-data-points to be displayed on the plot to enable down-sampling for a smoother BoReMi experience. \n",
    "\n",
    "Once the registration process is complete and the updated sm-data is downloaded, BoReMi will automatically apply all the manipulations performed by the user to the remaining sm-data-points that were not included in the down-sampled dataset. This will result in a .csv file containing all the sm-data-points updated consistently."
   ]
  },
  {
   "cell_type": "code",
   "execution_count": null,
   "metadata": {
    "tags": []
   },
   "outputs": [],
   "source": [
    "file_names = [\"mf_obs.csv\"]\n",
    "x_coordinate_column_names = [\"center_x\"]\n",
    "y_coordinate_column_names = [\"center_y\"]\n",
    "clusters_column_names = [\"leiden\"]\n",
    "cell_id_column_names = [\"cell_id\"]"
   ]
  },
  {
   "cell_type": "code",
   "execution_count": null,
   "metadata": {
    "tags": []
   },
   "outputs": [],
   "source": [
    "# Name for this session.\n",
    "\n",
    "title = [\"MERFISH\"]"
   ]
  },
  {
   "cell_type": "code",
   "execution_count": null,
   "metadata": {
    "tags": []
   },
   "outputs": [],
   "source": [
    "# Addresses of the \"HE image\" files along with their pixel size (in micrometer/pixel).\n",
    "\n",
    "imgs = [\"/home/jovyan/Binder/1.jpg\",\n",
    "        \"/home/jovyan/Binder/2.jpg\",\n",
    "        \"/home/jovyan/Binder/3.jpg\",\n",
    "        \"/home/jovyan/Binder/4.jpg\"]"
   ]
  },
  {
   "cell_type": "markdown",
   "metadata": {},
   "source": [
    "#### Instructions for User-modifiable parameters:\n",
    "\n",
    "##### Note: Type in integers and not strings (unless specified).\n",
    " \n",
    "1) Type in the \"pixel size (in micrometer/pixel)\" for the respective sm-data in the \"scale_for_sm_data\" list below.\n",
    "\n",
    "2) Type in the \"pixel size (in micrometer/pixel)\" for the image(s) in the \"scale_for_he_image\" variable below.\n",
    "\n",
    "3) Type in the \"pixel size (in micrometer/pixel)\" for the respective scale bar in the \"scale_bar\" variable below.\n",
    "\n",
    "4) Type in the \"preferred number of data-points\" in numerical values (maximum possible value is the total number of data-points) to be displayed on the plot for the respective sm-data in the \"number_of_data_points_to_be_displayed\" list below. If all data-points should be included, simply type \"all\" for the respective sm-data in the \"number_of_data_points_to_be_displayed\" list below. We recommend at most of 10000 data-points for a smoother BoReMi experience."
   ]
  },
  {
   "cell_type": "code",
   "execution_count": null,
   "metadata": {
    "tags": []
   },
   "outputs": [],
   "source": [
    "scale_for_sm_data = [1]\n",
    "scale_for_he_image = 0.14\n",
    "scale_bar = [1]\n",
    "number_of_data_points_to_be_displayed = [10000]"
   ]
  },
  {
   "cell_type": "markdown",
   "metadata": {},
   "source": [
    "### Heads up!\n",
    "\n",
    "!! Everything that is downloaded via the current Binder session, will get saved in your computer's default download location !!"
   ]
  },
  {
   "cell_type": "markdown",
   "metadata": {},
   "source": [
    "### BoReMi workspace"
   ]
  },
  {
   "cell_type": "code",
   "execution_count": null,
   "metadata": {
    "tags": []
   },
   "outputs": [],
   "source": [
    "%run Functions.ipynb\n",
    "list_for_all_data_types, list_for_all_data_types_remaining, list_for_storing_total_clusters_info_in_each_file, list_for_storing_total_clusters_info_in_each_file_remaining, list_for_storing_max_x_coordinate_of_each_file, list_for_storing_max_x_coordinate_of_each_file_remaining, list_for_storing_max_y_coordinate_of_each_file, list_for_storing_max_y_coordinate_of_each_file_remaining, list_for_storing_average_of_x_coordinated_of_each_file, list_for_storing_average_of_x_coordinated_of_each_file_remaining, list_for_storing_average_of_y_coordinated_of_each_file, list_for_storing_average_of_y_coordinated_of_each_file_remaining, actual_number_datapoints_displayed_on_the_plot, total_number_of_datapoints_in_the_smdata_file = creating_required_number_of_input_dictionaries(file_names, x_coordinate_column_names, y_coordinate_column_names, clusters_column_names, cell_id_column_names, scale_for_sm_data, scale_bar, title, number_of_data_points_to_be_displayed)   "
   ]
  },
  {
   "cell_type": "code",
   "execution_count": null,
   "metadata": {
    "tags": []
   },
   "outputs": [],
   "source": [
    "boremi(title, list_for_all_data_types, list_for_all_data_types_remaining, list_for_storing_total_clusters_info_in_each_file, list_for_storing_total_clusters_info_in_each_file_remaining, list_for_storing_max_x_coordinate_of_each_file, list_for_storing_max_x_coordinate_of_each_file_remaining, list_for_storing_max_y_coordinate_of_each_file, list_for_storing_max_y_coordinate_of_each_file_remaining, list_for_storing_average_of_x_coordinated_of_each_file, list_for_storing_average_of_x_coordinated_of_each_file_remaining, list_for_storing_average_of_y_coordinated_of_each_file, list_for_storing_average_of_y_coordinated_of_each_file_remaining, imgs, title, scale_for_he_image, scale_for_sm_data, scale_bar, actual_number_datapoints_displayed_on_the_plot, total_number_of_datapoints_in_the_smdata_file)"
   ]
  },
  {
   "cell_type": "markdown",
   "metadata": {},
   "source": [
    "### Image download via the current Binder session:\n",
    "\n",
    "The cell below is exclusive to Binder due to the current technical constraints between Binder-Bokeh_Server_Apps. \n",
    "\n",
    "##### !! When running the notebooks locally on your computer, the image-download feature would be seen integrated in the BoReMi workspace rather than a separate cell as made available here !!\n",
    "\n",
    "### Instructions for downloading modified HE images:\n",
    "\n",
    "To save the modified HE image, first upload the \"widget_values_for_updated_data_and_image.txt\" file from your computer's default download location to the \"Notebooks\" folder present in the temporary directory-space provided by the current Binder session and then run the cell below."
   ]
  },
  {
   "cell_type": "code",
   "execution_count": null,
   "metadata": {},
   "outputs": [],
   "source": [
    "image_download(\"/home/jovyan/Binder/widget_values_for_updated_data_and_image.txt\")"
   ]
  },
  {
   "cell_type": "markdown",
   "metadata": {},
   "source": [
    "### Plotting updated sm-data coordinates via the current Binder session:\n",
    "\n",
    "If you would like to check the updated spatial coordinates, try plotting it by first uploading the \"Updated_Spatial_Data.csv\" file from your computer's default download location to the \"Notebooks\" folder present in the temporary directory-space provided by the current Binder session and then running the cell below."
   ]
  },
  {
   "cell_type": "code",
   "execution_count": null,
   "metadata": {},
   "outputs": [],
   "source": [
    "plot_of_updated_data(\"/home/jovyan/Binder/Updated_Spatial_Data.csv\")"
   ]
  },
  {
   "cell_type": "code",
   "execution_count": null,
   "metadata": {},
   "outputs": [],
   "source": []
  }
 ],
 "metadata": {
  "kernelspec": {
   "display_name": "Python 3 (ipykernel)",
   "language": "python",
   "name": "python3"
  },
  "language_info": {
   "codemirror_mode": {
    "name": "ipython",
    "version": 3
   },
   "file_extension": ".py",
   "mimetype": "text/x-python",
   "name": "python",
   "nbconvert_exporter": "python",
   "pygments_lexer": "ipython3",
   "version": "3.11.5"
  }
 },
 "nbformat": 4,
 "nbformat_minor": 4
}
