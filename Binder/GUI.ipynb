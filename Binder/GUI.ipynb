{
 "cells": [
  {
   "cell_type": "markdown",
   "metadata": {},
   "source": [
    "### BoReMi interactive demonstration"
   ]
  },
  {
   "cell_type": "code",
   "execution_count": null,
   "metadata": {
    "tags": []
   },
   "outputs": [],
   "source": [
    "# This cell imports all the required modules and functions.\n",
    "%run Functions.ipynb"
   ]
  },
  {
   "cell_type": "markdown",
   "metadata": {},
   "source": [
    "Instructions for uploading sm-data file(s):\n",
    "\n",
    "- Ensure the first row of the sm-data file contains only column names.\n",
    "\n",
    "- For .h5ad files, the spatial coordinates (X, Y) and cluster annotations should be stored in the .obs parameter of the anndata object.\n",
    "\n",
    "- For multiple data types, separate different file addresses in the file_names list by commas. The same applies to all other lists for different column names.\n",
    "\n",
    "- If cluster annotations are not available, all coordinates will be labeled as \"C_nan\" in the interactive legend space.\n",
    "    \n",
    "Example usage (two datasets):\n",
    "    \n",
    "- file_names = [\"path/to/file1.csv\", \"path/to/file2.h5ad\"]\n",
    "\n",
    "- x_coordinates_column_names = [\"x_coord_file1\", \"x_coord_file2\"]\n",
    "\n",
    "- y_coordinates_column_names = [\"y_coord_file1\", \"y_coord_file2\"]\n",
    "\n",
    "- clusters_column_names = [\"cluster_file1\", \"none\"]\n",
    "\n",
    "- cell_ids_column_names = [\"cell_id_file1\", \"cell_id_file2\"]\n",
    "\n",
    "- title = [\"MERFISH\", \"SLIDE-SEQ\"]"
   ]
  },
  {
   "cell_type": "code",
   "execution_count": null,
   "metadata": {
    "tags": []
   },
   "outputs": [],
   "source": [
    "# list of str: Absolute addresses of the sm-data files. Accepted file formats: .csv, .xlsx, .h5ad\n",
    "file_names = [\"/home/jovyan/Binder/sample_spatial_data/mf_obs.csv\"] \n",
    "\n",
    "# list of str: Column names for X coordinates in each sm-data file.\n",
    "x_coordinate_column_names = [\"center_x\"] \n",
    "\n",
    " # list of str: Column names for Y coordinates in each sm-data file.\n",
    "y_coordinate_column_names = [\"center_y\"]\n",
    "\n",
    "# list of str: Column names for cluster annotations in each sm-data file. Type \"none\" to run without annotations.\n",
    "clusters_column_names = [\"leiden\"] \n",
    "\n",
    "# list of str: Column names for cell IDs in each sm-data file. Type \"index\" to use the index of the dataframe as cell IDs.\n",
    "cell_id_column_names = [\"cell_id\"] \n",
    "\n",
    "# list of str: Name for the session(s).\n",
    "title = [\"MERFISH\"]"
   ]
  },
  {
   "cell_type": "code",
   "execution_count": null,
   "metadata": {
    "tags": []
   },
   "outputs": [],
   "source": []
  },
  {
   "cell_type": "markdown",
   "metadata": {},
   "source": [
    "Instructions for uploading HE/DAPI image(s):\n",
    "\n",
    "- Ensure the image files are in the accepted formats (.jpg, .jpeg, .png).\n",
    "\n",
    "- Enter the absolute addresses of the images in the imgs list for registration.\n",
    "\n",
    "- Note: Only 3 images can be uploaded when running BoReMi on a remote Jupyter server.\n",
    "\n",
    "Example usage:\n",
    "\n",
    "- imgs = [\"path/to/image1.jpeg\", \"path/to/image2.png\", \"path/to/image3.jpg\"]"
   ]
  },
  {
   "cell_type": "code",
   "execution_count": null,
   "metadata": {
    "tags": []
   },
   "outputs": [],
   "source": [
    "# list of str: Absolute addresses of the HE/DAPI images. Accepted file formats: .jpg, .jpeg, .png\n",
    "imgs = [\"/home/jovyan/Binder/sample_images/1_HE.jpg\",\n",
    "        \"/home/jovyan/Binder/sample_images/2_HE.jpg\",\n",
    "        \"/home/jovyan/Binder/sample_images/3_HE.jpg\",\n",
    "        \"/home/jovyan/Binder/sample_images/4_HE.jpg\",\n",
    "        \"/home/jovyan/Binder/sample_images/5_DAPI.jpg\"]"
   ]
  },
  {
   "cell_type": "markdown",
   "metadata": {},
   "source": [
    "Instructions for user-modifiable variables:\n",
    "\n",
    "1. Variable {number_of_data_points_to_be_displayed}: \n",
    "\n",
    "- Type integers for specific numbers.\n",
    "\n",
    "- Type \"all\" to include all data points.\n",
    "\n",
    "- Maximum possible value is the total number of data points.\n",
    "\n",
    "- Recommended maximum of 10,000 data points for a smoother BoReMi experience.\n",
    "\n",
    "Example usage (two datasets):\n",
    "    \n",
    "- scale_for_sm_data = [0.5, 1.0]\n",
    "\n",
    "- scale_for_he_image = 0.8\n",
    "\n",
    "- scale_bar = [10.0, 1]\n",
    "\n",
    "- number_of_data_points_to_be_displayed = [10000, \"all\"]"
   ]
  },
  {
   "cell_type": "code",
   "execution_count": null,
   "metadata": {
    "tags": []
   },
   "outputs": [],
   "source": [
    "# list of int or float: Pixel size(s) (in micrometer/pixel) for the respective sm-data.\n",
    "scale_for_sm_data = [1]\n",
    "\n",
    "# int or float: Pixel size (in micrometer/pixel) for the image(s).\n",
    "scale_for_he_image = 0.14\n",
    "\n",
    "# list of int or float: Pixel size(s) (in micrometer/pixel) for the respective scale bar.\n",
    "scale_bar = [1]\n",
    "\n",
    "# list of int or str: - Preferred number of data points to be displayed on the plot for the respective sm-data.\n",
    "number_of_data_points_to_be_displayed = [10000]"
   ]
  },
  {
   "cell_type": "markdown",
   "metadata": {},
   "source": [
    "### <u>Heads up!</u>\n",
    "\n",
    "1. Once the registration process is complete and the button \"Download Spatial Coordinates+Log file\" is clicked, BoReMi will automatically apply all user-performed manipulations to the remaining sm-data points that were not included in the down-sampled dataset. This results in downloading:\n",
    "\n",
    "    - A .csv file containing all sm-data points updated consistently.\n",
    "\n",
    "    - A registration .txt file that contains all applied transformation parameters for future use or reference.\n",
    "\n",
    "    - A record log .csv file documenting all linear manipulations.\n",
    "\n",
    "**Everything that is downloaded via the current Binder session, will get saved in your computer's default download location.**"
   ]
  },
  {
   "cell_type": "markdown",
   "metadata": {},
   "source": [
    "### <u>BoReMi workspace</u>"
   ]
  },
  {
   "cell_type": "code",
   "execution_count": null,
   "metadata": {
    "tags": []
   },
   "outputs": [],
   "source": [
    "list_for_all_data_types, list_for_all_data_types_remaining, list_for_storing_total_clusters_info_in_each_file, list_for_storing_total_clusters_info_in_each_file_remaining, list_for_storing_max_x_coordinate_of_each_file, list_for_storing_max_x_coordinate_of_each_file_remaining, list_for_storing_max_y_coordinate_of_each_file, list_for_storing_max_y_coordinate_of_each_file_remaining, list_for_storing_average_of_x_coordinated_of_each_file, list_for_storing_average_of_x_coordinated_of_each_file_remaining, list_for_storing_average_of_y_coordinated_of_each_file, list_for_storing_average_of_y_coordinated_of_each_file_remaining, actual_number_datapoints_displayed_on_the_plot, total_number_of_datapoints_in_the_smdata_file = creating_required_number_of_input_dictionaries(file_names, x_coordinate_column_names, y_coordinate_column_names, clusters_column_names, cell_id_column_names, scale_for_sm_data, scale_bar, title, number_of_data_points_to_be_displayed)   "
   ]
  },
  {
   "cell_type": "code",
   "execution_count": null,
   "metadata": {
    "tags": []
   },
   "outputs": [],
   "source": [
    "boremi(title, list_for_all_data_types, list_for_all_data_types_remaining, list_for_storing_total_clusters_info_in_each_file, list_for_storing_total_clusters_info_in_each_file_remaining, list_for_storing_max_x_coordinate_of_each_file, list_for_storing_max_x_coordinate_of_each_file_remaining, list_for_storing_max_y_coordinate_of_each_file, list_for_storing_max_y_coordinate_of_each_file_remaining, list_for_storing_average_of_x_coordinated_of_each_file, list_for_storing_average_of_x_coordinated_of_each_file_remaining, list_for_storing_average_of_y_coordinated_of_each_file, list_for_storing_average_of_y_coordinated_of_each_file_remaining, imgs, title, scale_for_he_image, scale_for_sm_data, scale_bar, actual_number_datapoints_displayed_on_the_plot, total_number_of_datapoints_in_the_smdata_file)"
   ]
  },
  {
   "cell_type": "markdown",
   "metadata": {},
   "source": [
    "### <u>Image download via the current Binder session:</u>\n",
    "\n",
    "The cell below is exclusive to Binder due to the current technical constraints between Binder-Bokeh_Server_Apps. \n",
    "\n",
    "##### Note: When running the notebooks locally on your computer or on a cluster, the image-download feature would be seen integrated in the BoReMi workspace rather than a separate cell as made available here."
   ]
  },
  {
   "cell_type": "markdown",
   "metadata": {},
   "source": [
    "### <u>Instructions for downloading modified HE/DAPI images:</u>\n",
    "\n",
    "To save the modified HE/DAPI image, first upload the \"widget_values_for_updated_data_and_image.txt\" file from your computer's default download location to the \"Binder\" folder present in the temporary directory-space provided by the current Binder session and then run the cell below."
   ]
  },
  {
   "cell_type": "code",
   "execution_count": null,
   "metadata": {},
   "outputs": [],
   "source": [
    "image_download(\"/home/jovyan/Binder/widget_values_for_updated_data_and_image.txt\")"
   ]
  },
  {
   "cell_type": "markdown",
   "metadata": {},
   "source": [
    "### <u>Plotting updated sm-data coordinates via the current Binder session:</u>\n",
    "\n",
    "If you would like to check the updated spatial coordinates, try plotting it by first uploading the \"Updated_Spatial_Data.csv\" file from your computer's default download location to the \"Binder\" folder present in the temporary directory-space provided by the current Binder session and then running the cell below."
   ]
  },
  {
   "cell_type": "code",
   "execution_count": null,
   "metadata": {},
   "outputs": [],
   "source": [
    "plot_of_updated_data(\"/home/jovyan/Binder/Updated_Spatial_Data.csv\")"
   ]
  },
  {
   "cell_type": "code",
   "execution_count": null,
   "metadata": {},
   "outputs": [],
   "source": []
  }
 ],
 "metadata": {
  "kernelspec": {
   "display_name": "Python 3 (ipykernel)",
   "language": "python",
   "name": "python3"
  },
  "language_info": {
   "codemirror_mode": {
    "name": "ipython",
    "version": 3
   },
   "file_extension": ".py",
   "mimetype": "text/x-python",
   "name": "python",
   "nbconvert_exporter": "python",
   "pygments_lexer": "ipython3",
   "version": "3.11.5"
  }
 },
 "nbformat": 4,
 "nbformat_minor": 4
}
