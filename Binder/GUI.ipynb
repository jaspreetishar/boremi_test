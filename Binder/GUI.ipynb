{
 "cells": [
  {
   "cell_type": "markdown",
   "metadata": {},
   "source": [
    "### BoReMi interactive demonstration"
   ]
  },
  {
   "cell_type": "code",
   "execution_count": null,
   "metadata": {
    "tags": []
   },
   "outputs": [],
   "source": [
    "# This cell imports all the required modules and functions.\n",
    "\n",
    "%run Functions.ipynb"
   ]
  },
  {
   "cell_type": "markdown",
   "metadata": {},
   "source": [
    "### <u>A few notes:</u>\n",
    "The lists below include:\n",
    "\n",
    "1. The address of the sm-data file.\n",
    "\n",
    "    - Accepted file formats - .csv / .xlsx / .h5ad\n",
    "    \n",
    "    - In case you would like to test a different sm-data file, please follow the guidelines below:\n",
    "\n",
    "        #### <u>Instructions for uploading sm-data:</u>\n",
    "    \n",
    "        - Enter the absolute address(es) of the file(s) in the 1st list present in the cell below, followed by the names of the <u>columns</u> containing <u>X coordinates</u>, <u>Y coordinates</u> and <u>Cluster Annotations</u> in the following respective lists.\n",
    "\n",
    "            - In case of .h5ad file(s), the spatial coordinates (x, y) and cluster annotations containing dataframe should be stored in the <u>.obs</u> parameter of the anndata object.\n",
    "\n",
    "        - If your file(s) does not contain cluster annotations, please write <u>\"none\"</u> in the list \"clusters_column_names\" below. \n",
    "\n",
    "            - For example: clusters_column_names = [\"none\"]\n",
    "\n",
    "            - In the above mentioned case, all the coordinates will be stored as \"C_nan\" in the interactive legend space of the tool. In case some coordinates have not been grouped into any of the clusters, they will also be stored as \"C_nan\" in the interactive legend space of the tool.\n",
    "\n",
    "        - Please make sure that the 1st row of the sm-data file only contains <u>column names</u> and not some other information/sentences.\n",
    "\n",
    "        - If you would like to test multiple data-types together, enter the different file addresses in the \"file_names\" list separated by commas. The same applies to all the other lists made for different column names.\n",
    "        # \n",
    "        \n",
    "2. Column names for <u>X coordinates</u>, <u>Y coordinates</u>, <u>Cluster Annotations</u> and <u>Cell IDs</u>."
   ]
  },
  {
   "cell_type": "code",
   "execution_count": null,
   "metadata": {
    "tags": []
   },
   "outputs": [],
   "source": [
    "file_names = [\"/home/jovyan/Binder/sample_spatial_data/mf_obs.csv\"]\n",
    "x_coordinate_column_names = [\"center_x\"]\n",
    "y_coordinate_column_names = [\"center_y\"]\n",
    "clusters_column_names = [\"leiden\"]\n",
    "cell_id_column_names = [\"cell_id\"]"
   ]
  },
  {
   "cell_type": "code",
   "execution_count": null,
   "metadata": {
    "tags": []
   },
   "outputs": [],
   "source": [
    "# Name for this session.\n",
    "\n",
    "title = [\"MERFISH\"]"
   ]
  },
  {
   "cell_type": "markdown",
   "metadata": {},
   "source": [
    "### <u>Instructions for uploading HE images:</u>\n",
    " \n",
    "In case you would like to test different HE/DAPI images, please follow the guidelines below: \n",
    "\n",
    "1) Accepted file formats - .jpeg / .png\n",
    " \n",
    "2) Enter the absolute addresses of the images in the \"imgs\" list present in the cell below for the registration.\n",
    "\n",
    "##### Note: Only 3 images can be uploaded when running BoReMi on a remote jupyter server."
   ]
  },
  {
   "cell_type": "code",
   "execution_count": null,
   "metadata": {
    "tags": []
   },
   "outputs": [],
   "source": [
    "# Addresses of the \"HE/DAPI image(s)\" files along with their pixel size (in micrometer/pixel).\n",
    "\n",
    "imgs = [\"/home/jovyan/Binder/sample_images/1_HE.jpg\",\n",
    "        \"/home/jovyan/Binder/sample_images/2_HE.jpg\",\n",
    "        \"/home/jovyan/Binder/sample_images/3_HE.jpg\",\n",
    "        \"/home/jovyan/Binder/sample_images/4_HE.jpg\",\n",
    "        \"/home/jovyan/Binder/sample_images/5_DAPI.jpg\"]"
   ]
  },
  {
   "cell_type": "markdown",
   "metadata": {},
   "source": [
    "### <u>Instructions for User-modifiable parameters:</u>\n",
    "\n",
    "##### Note: Type in integers and not strings (unless specified).\n",
    " \n",
    "1) Type in the <u>pixel size (in micrometer/pixel)</u> for the respective sm-data in the \"scale_for_sm_data\" list below.\n",
    "\n",
    "2) Type in the <u>pixel size (in micrometer/pixel)</u> for the image(s) in the \"scale_for_he_image\" variable below.\n",
    "\n",
    "3) Type in the <u>pixel size (in micrometer/pixel)</u> for the respective scale bar in the \"scale_bar\" variable below.\n",
    "\n",
    "4) Type in the <u>preferred number of data-points</u> to be displayed on the plot for the respective sm-data in the \"number_of_data_points_to_be_displayed\" list below.\n",
    "    - Maximum possible value is the total number of data-points.\n",
    "\n",
    "    - If all data-points should be included, please type \"all\" for the respective sm-data in the \"number_of_data_points_to_be_displayed\" list below. \n",
    "        - For example: number_of_data_points_to_be_displayed = [\"all\"]\n",
    "        \n",
    "    - We recommend at most of 10000 data-points for a smoother BoReMi experience."
   ]
  },
  {
   "cell_type": "code",
   "execution_count": null,
   "metadata": {
    "tags": []
   },
   "outputs": [],
   "source": [
    "scale_for_sm_data = [1]\n",
    "scale_for_he_image = 0.14\n",
    "scale_bar = [1]\n",
    "number_of_data_points_to_be_displayed = [10000]"
   ]
  },
  {
   "cell_type": "markdown",
   "metadata": {},
   "source": [
    "### <u>Heads up!</u>\n",
    "\n",
    "1. Once the registration process is complete and the button \"Download Spatial Coordinates+Log file\" is clicked, BoReMi will automatically apply all user-performed manipulations to the remaining sm-data points that were not included in the down-sampled dataset. This results in downloading:\n",
    "\n",
    "    - A .csv file containing all sm-data points updated consistently.\n",
    "\n",
    "    - A registration .txt file that contains all applied transformation parameters for future use or reference.\n",
    "\n",
    "    - A record log .csv file documenting all linear manipulations.\n",
    "\n",
    "**Everything that is downloaded via the current Binder session, will get saved in your computer's default download location.**"
   ]
  },
  {
   "cell_type": "markdown",
   "metadata": {},
   "source": [
    "### <u>BoReMi workspace</u>"
   ]
  },
  {
   "cell_type": "code",
   "execution_count": null,
   "metadata": {
    "tags": []
   },
   "outputs": [],
   "source": [
    "list_for_all_data_types, list_for_all_data_types_remaining, list_for_storing_total_clusters_info_in_each_file, list_for_storing_total_clusters_info_in_each_file_remaining, list_for_storing_max_x_coordinate_of_each_file, list_for_storing_max_x_coordinate_of_each_file_remaining, list_for_storing_max_y_coordinate_of_each_file, list_for_storing_max_y_coordinate_of_each_file_remaining, list_for_storing_average_of_x_coordinated_of_each_file, list_for_storing_average_of_x_coordinated_of_each_file_remaining, list_for_storing_average_of_y_coordinated_of_each_file, list_for_storing_average_of_y_coordinated_of_each_file_remaining, actual_number_datapoints_displayed_on_the_plot, total_number_of_datapoints_in_the_smdata_file = creating_required_number_of_input_dictionaries(file_names, x_coordinate_column_names, y_coordinate_column_names, clusters_column_names, cell_id_column_names, scale_for_sm_data, scale_bar, title, number_of_data_points_to_be_displayed)   "
   ]
  },
  {
   "cell_type": "code",
   "execution_count": null,
   "metadata": {
    "tags": []
   },
   "outputs": [],
   "source": [
    "boremi(title, list_for_all_data_types, list_for_all_data_types_remaining, list_for_storing_total_clusters_info_in_each_file, list_for_storing_total_clusters_info_in_each_file_remaining, list_for_storing_max_x_coordinate_of_each_file, list_for_storing_max_x_coordinate_of_each_file_remaining, list_for_storing_max_y_coordinate_of_each_file, list_for_storing_max_y_coordinate_of_each_file_remaining, list_for_storing_average_of_x_coordinated_of_each_file, list_for_storing_average_of_x_coordinated_of_each_file_remaining, list_for_storing_average_of_y_coordinated_of_each_file, list_for_storing_average_of_y_coordinated_of_each_file_remaining, imgs, title, scale_for_he_image, scale_for_sm_data, scale_bar, actual_number_datapoints_displayed_on_the_plot, total_number_of_datapoints_in_the_smdata_file)"
   ]
  },
  {
   "cell_type": "markdown",
   "metadata": {},
   "source": [
    "### <u>Image download via the current Binder session:</u>\n",
    "\n",
    "The cell below is exclusive to Binder due to the current technical constraints between Binder-Bokeh_Server_Apps. \n",
    "\n",
    "##### Note: When running the notebooks locally on your computer or on a cluster, the image-download feature would be seen integrated in the BoReMi workspace rather than a separate cell as made available here."
   ]
  },
  {
   "cell_type": "markdown",
   "metadata": {},
   "source": [
    "### <u>Instructions for downloading modified HE/DAPI images:</u>\n",
    "\n",
    "To save the modified HE/DAPI image, first upload the \"widget_values_for_updated_data_and_image.txt\" file from your computer's default download location to the \"Binder\" folder present in the temporary directory-space provided by the current Binder session and then run the cell below."
   ]
  },
  {
   "cell_type": "code",
   "execution_count": null,
   "metadata": {},
   "outputs": [],
   "source": [
    "image_download(\"/home/jovyan/Binder/widget_values_for_updated_data_and_image.txt\")"
   ]
  },
  {
   "cell_type": "markdown",
   "metadata": {},
   "source": [
    "### <u>Plotting updated sm-data coordinates via the current Binder session:</u>\n",
    "\n",
    "If you would like to check the updated spatial coordinates, try plotting it by first uploading the \"Updated_Spatial_Data.csv\" file from your computer's default download location to the \"Binder\" folder present in the temporary directory-space provided by the current Binder session and then running the cell below."
   ]
  },
  {
   "cell_type": "code",
   "execution_count": null,
   "metadata": {},
   "outputs": [],
   "source": [
    "plot_of_updated_data(\"/home/jovyan/Binder/Updated_Spatial_Data.csv\")"
   ]
  },
  {
   "cell_type": "code",
   "execution_count": null,
   "metadata": {},
   "outputs": [],
   "source": []
  }
 ],
 "metadata": {
  "kernelspec": {
   "display_name": "Python 3 (ipykernel)",
   "language": "python",
   "name": "python3"
  },
  "language_info": {
   "codemirror_mode": {
    "name": "ipython",
    "version": 3
   },
   "file_extension": ".py",
   "mimetype": "text/x-python",
   "name": "python",
   "nbconvert_exporter": "python",
   "pygments_lexer": "ipython3",
   "version": "3.11.5"
  }
 },
 "nbformat": 4,
 "nbformat_minor": 4
}
